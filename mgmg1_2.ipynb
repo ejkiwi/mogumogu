{
  "nbformat": 4,
  "nbformat_minor": 0,
  "metadata": {
    "colab": {
      "provenance": [],
      "gpuType": "T4",
      "authorship_tag": "ABX9TyNpoo28+sfueu8miEgduuVz",
      "include_colab_link": true
    },
    "kernelspec": {
      "name": "python3",
      "display_name": "Python 3"
    },
    "language_info": {
      "name": "python"
    },
    "accelerator": "GPU"
  },
  "cells": [
    {
      "cell_type": "markdown",
      "metadata": {
        "id": "view-in-github",
        "colab_type": "text"
      },
      "source": [
        "<a href=\"https://colab.research.google.com/github/ejkiwi/mogumogu/blob/main/mgmg1_2.ipynb\" target=\"_parent\"><img src=\"https://colab.research.google.com/assets/colab-badge.svg\" alt=\"Open In Colab\"/></a>"
      ]
    },
    {
      "cell_type": "markdown",
      "metadata": {
        "id": "7FMvuTnEWR1t"
      },
      "source": [
        "#cnn"
      ]
    },
    {
      "cell_type": "code",
      "execution_count": 1,
      "metadata": {
        "id": "ogxHsZSSWNjV"
      },
      "outputs": [],
      "source": [
        "import torch #pytorch 가져오기"
      ]
    },
    {
      "cell_type": "code",
      "execution_count": 2,
      "metadata": {
        "colab": {
          "base_uri": "https://localhost:8080/"
        },
        "id": "pI97cZ10Wbc2",
        "outputId": "a10cffd9-1787-4fae-db37-a5eeee8a92a9"
      },
      "outputs": [
        {
          "output_type": "stream",
          "name": "stdout",
          "text": [
            "Downloading http://yann.lecun.com/exdb/mnist/train-images-idx3-ubyte.gz\n",
            "Failed to download (trying next):\n",
            "HTTP Error 403: Forbidden\n",
            "\n",
            "Downloading https://ossci-datasets.s3.amazonaws.com/mnist/train-images-idx3-ubyte.gz\n",
            "Downloading https://ossci-datasets.s3.amazonaws.com/mnist/train-images-idx3-ubyte.gz to data/MNIST/raw/train-images-idx3-ubyte.gz\n"
          ]
        },
        {
          "output_type": "stream",
          "name": "stderr",
          "text": [
            "100%|██████████| 9912422/9912422 [00:00<00:00, 14406787.08it/s]\n"
          ]
        },
        {
          "output_type": "stream",
          "name": "stdout",
          "text": [
            "Extracting data/MNIST/raw/train-images-idx3-ubyte.gz to data/MNIST/raw\n",
            "\n",
            "Downloading http://yann.lecun.com/exdb/mnist/train-labels-idx1-ubyte.gz\n",
            "Failed to download (trying next):\n",
            "HTTP Error 403: Forbidden\n",
            "\n",
            "Downloading https://ossci-datasets.s3.amazonaws.com/mnist/train-labels-idx1-ubyte.gz\n",
            "Downloading https://ossci-datasets.s3.amazonaws.com/mnist/train-labels-idx1-ubyte.gz to data/MNIST/raw/train-labels-idx1-ubyte.gz\n"
          ]
        },
        {
          "output_type": "stream",
          "name": "stderr",
          "text": [
            "100%|██████████| 28881/28881 [00:00<00:00, 365962.23it/s]\n"
          ]
        },
        {
          "output_type": "stream",
          "name": "stdout",
          "text": [
            "Extracting data/MNIST/raw/train-labels-idx1-ubyte.gz to data/MNIST/raw\n",
            "\n",
            "Downloading http://yann.lecun.com/exdb/mnist/t10k-images-idx3-ubyte.gz\n",
            "Failed to download (trying next):\n",
            "HTTP Error 403: Forbidden\n",
            "\n",
            "Downloading https://ossci-datasets.s3.amazonaws.com/mnist/t10k-images-idx3-ubyte.gz\n",
            "Downloading https://ossci-datasets.s3.amazonaws.com/mnist/t10k-images-idx3-ubyte.gz to data/MNIST/raw/t10k-images-idx3-ubyte.gz\n"
          ]
        },
        {
          "output_type": "stream",
          "name": "stderr",
          "text": [
            "100%|██████████| 1648877/1648877 [00:01<00:00, 1630598.82it/s]\n"
          ]
        },
        {
          "output_type": "stream",
          "name": "stdout",
          "text": [
            "Extracting data/MNIST/raw/t10k-images-idx3-ubyte.gz to data/MNIST/raw\n",
            "\n",
            "Downloading http://yann.lecun.com/exdb/mnist/t10k-labels-idx1-ubyte.gz\n",
            "Failed to download (trying next):\n",
            "HTTP Error 403: Forbidden\n",
            "\n",
            "Downloading https://ossci-datasets.s3.amazonaws.com/mnist/t10k-labels-idx1-ubyte.gz\n",
            "Downloading https://ossci-datasets.s3.amazonaws.com/mnist/t10k-labels-idx1-ubyte.gz to data/MNIST/raw/t10k-labels-idx1-ubyte.gz\n"
          ]
        },
        {
          "output_type": "stream",
          "name": "stderr",
          "text": [
            "100%|██████████| 4542/4542 [00:00<00:00, 4440682.70it/s]"
          ]
        },
        {
          "output_type": "stream",
          "name": "stdout",
          "text": [
            "Extracting data/MNIST/raw/t10k-labels-idx1-ubyte.gz to data/MNIST/raw\n",
            "\n"
          ]
        },
        {
          "output_type": "stream",
          "name": "stderr",
          "text": [
            "\n"
          ]
        }
      ],
      "source": [
        "#데이터셋불러오고 텐서로 바꿔주기\n",
        "from torchvision import datasets #데이터셋 불러오고\n",
        "from torchvision.transforms import ToTensor #텐서로 바꿔주기\n",
        "\n",
        "#datasets에서 MNIST 가져와서 훈련데이터와 테스트데이터 가져와주기.\n",
        "#datasets.MNIST(root - 데이터가 저장될 경로, train - train이 true 이면 train data이고 false면 test data, download - 데이터 없으면 인터넷에서 다운로드해줌 , transform - transform을 ToTensor로 지정해주지 않으면 텐서의 형식이 아닌, PIL이미지로 데이터가 가져와지게 된다, target_transform)\n",
        "\n",
        "train_data = datasets.MNIST(\n",
        "    root = \"data\",\n",
        "    train = True, #train data를 다운로드\n",
        "    transform = ToTensor(),\n",
        "    download = True\n",
        ")\n",
        "test_data = datasets.MNIST(\n",
        "    root = 'data',\n",
        "    train = False, #test data를 다운로드\n",
        "    transform = ToTensor()\n",
        ")"
      ]
    },
    {
      "cell_type": "code",
      "execution_count": 3,
      "metadata": {
        "colab": {
          "base_uri": "https://localhost:8080/"
        },
        "id": "BHv_Zs7eWdgY",
        "outputId": "e90a65d0-b3e5-443e-8349-161601ef1775"
      },
      "outputs": [
        {
          "output_type": "stream",
          "name": "stdout",
          "text": [
            "Dataset MNIST\n",
            "    Number of datapoints: 60000\n",
            "    Root location: data\n",
            "    Split: Train\n",
            "    StandardTransform\n",
            "Transform: ToTensor()\n",
            "torch.Size([60000, 28, 28])\n"
          ]
        }
      ],
      "source": [
        "#학습데이터 확인\n",
        "print(train_data)\n",
        "print(train_data.data.size())\n",
        "# 데이터셋의 이름은 MNIST\n",
        "# 데이터의 수는 60000개\n",
        "# 훈련데이터\n",
        "# StandardTransform(데이터셋에 일관되게 적용되는 변환의 표준을 정의) -> Transform: ToTensor() #이미지 데이터들을 모두 일관되게 텐서 형태로 변환하겠다는 것을 의미."
      ]
    },
    {
      "cell_type": "code",
      "execution_count": 4,
      "metadata": {
        "colab": {
          "base_uri": "https://localhost:8080/"
        },
        "id": "Uo_j68c0WgDi",
        "outputId": "2e5d3d6d-6552-40d2-9760-7f06f382d6a8"
      },
      "outputs": [
        {
          "output_type": "stream",
          "name": "stdout",
          "text": [
            "Dataset MNIST\n",
            "    Number of datapoints: 10000\n",
            "    Root location: data\n",
            "    Split: Test\n",
            "    StandardTransform\n",
            "Transform: ToTensor()\n",
            "torch.Size([10000, 28, 28])\n"
          ]
        }
      ],
      "source": [
        "#테스트데이터 확인\n",
        "print(test_data)\n",
        "print(test_data.data.size())\n",
        "#데이터의 수가 10000 인 것과 테스트데이터라는 것을 제외하면 나머지 속성은 학습데이터와 동일함."
      ]
    },
    {
      "cell_type": "code",
      "execution_count": 5,
      "metadata": {
        "colab": {
          "base_uri": "https://localhost:8080/",
          "height": 622
        },
        "id": "bYUaNlOeWik1",
        "outputId": "106c243a-ea85-4f68-da40-2421080570da"
      },
      "outputs": [
        {
          "output_type": "execute_result",
          "data": {
            "text/plain": [
              "<function matplotlib.pyplot.show(close=None, block=None)>"
            ],
            "text/html": [
              "<div style=\"max-width:800px; border: 1px solid var(--colab-border-color);\"><style>\n",
              "      pre.function-repr-contents {\n",
              "        overflow-x: auto;\n",
              "        padding: 8px 12px;\n",
              "        max-height: 500px;\n",
              "      }\n",
              "\n",
              "      pre.function-repr-contents.function-repr-contents-collapsed {\n",
              "        cursor: pointer;\n",
              "        max-height: 100px;\n",
              "      }\n",
              "    </style>\n",
              "    <pre style=\"white-space: initial; background:\n",
              "         var(--colab-secondary-surface-color); padding: 8px 12px;\n",
              "         border-bottom: 1px solid var(--colab-border-color);\"><b>matplotlib.pyplot.show</b><br/>def show(*args, **kwargs)</pre><pre class=\"function-repr-contents function-repr-contents-collapsed\" style=\"\"><a class=\"filepath\" style=\"display:none\" href=\"#\">/usr/local/lib/python3.10/dist-packages/matplotlib/pyplot.py</a>Display all open figures.\n",
              "\n",
              "Parameters\n",
              "----------\n",
              "block : bool, optional\n",
              "    Whether to wait for all figures to be closed before returning.\n",
              "\n",
              "    If `True` block and run the GUI main loop until all figure windows\n",
              "    are closed.\n",
              "\n",
              "    If `False` ensure that all figure windows are displayed and return\n",
              "    immediately.  In this case, you are responsible for ensuring\n",
              "    that the event loop is running to have responsive figures.\n",
              "\n",
              "    Defaults to True in non-interactive mode and to False in interactive\n",
              "    mode (see `.pyplot.isinteractive`).\n",
              "\n",
              "See Also\n",
              "--------\n",
              "ion : Enable interactive mode, which shows / updates the figure after\n",
              "      every plotting command, so that calling ``show()`` is not necessary.\n",
              "ioff : Disable interactive mode.\n",
              "savefig : Save the figure to an image file instead of showing it on screen.\n",
              "\n",
              "Notes\n",
              "-----\n",
              "**Saving figures to file and showing a window at the same time**\n",
              "\n",
              "If you want an image file as well as a user interface window, use\n",
              "`.pyplot.savefig` before `.pyplot.show`. At the end of (a blocking)\n",
              "``show()`` the figure is closed and thus unregistered from pyplot. Calling\n",
              "`.pyplot.savefig` afterwards would save a new and thus empty figure. This\n",
              "limitation of command order does not apply if the show is non-blocking or\n",
              "if you keep a reference to the figure and use `.Figure.savefig`.\n",
              "\n",
              "**Auto-show in jupyter notebooks**\n",
              "\n",
              "The jupyter backends (activated via ``%matplotlib inline``,\n",
              "``%matplotlib notebook``, or ``%matplotlib widget``), call ``show()`` at\n",
              "the end of every cell by default. Thus, you usually don&#x27;t have to call it\n",
              "explicitly there.</pre>\n",
              "      <script>\n",
              "      if (google.colab.kernel.accessAllowed && google.colab.files && google.colab.files.view) {\n",
              "        for (const element of document.querySelectorAll('.filepath')) {\n",
              "          element.style.display = 'block'\n",
              "          element.onclick = (event) => {\n",
              "            event.preventDefault();\n",
              "            event.stopPropagation();\n",
              "            google.colab.files.view(element.textContent, 401);\n",
              "          };\n",
              "        }\n",
              "      }\n",
              "      for (const element of document.querySelectorAll('.function-repr-contents')) {\n",
              "        element.onclick = (event) => {\n",
              "          event.preventDefault();\n",
              "          event.stopPropagation();\n",
              "          element.classList.toggle('function-repr-contents-collapsed');\n",
              "        };\n",
              "      }\n",
              "      </script>\n",
              "      </div>"
            ]
          },
          "metadata": {},
          "execution_count": 5
        },
        {
          "output_type": "display_data",
          "data": {
            "text/plain": [
              "<Figure size 640x480 with 1 Axes>"
            ],
            "image/png": "[encoded data removed]"
          },
          "metadata": {}
        }
      ],
      "source": [
        "#데이터 시각적으로 확인\n",
        "import matplotlib.pyplot as plt #시각적 확인을 위해 matplotlib을 사용.\n",
        "fig, ax = plt.subplots() # fig -> 데이터가 담기는 프레임 / ax -> 실제 데이터가 그려지는 캔버스\n",
        "ax.imshow(train_data.data[0], cmap='gray') #데이터의 모습\n",
        "\n",
        "#이미지 위에 각 픽셀 값을 표시해서 나타내보기\n",
        "for i in range(train_data.data[0].shape[0]): # i와j는 텍스트를 표시할 위치를 지정하기 위함.\n",
        "  for j in range(train_data.data[0].shape[1]):\n",
        "    c = 1 if train_data.data[0][i, j].item() < 125 else 0 # 이미지의 각 픽셀 값( train_data.data[0][i,j].item() )이 125보다 작으면 c = 1 흰색을 사용, 크면 c = 0 검정 사용.\n",
        "    ax.text(j, i, str(train_data.data[0][i, j].item()), color=(c, c, c), ha='center', va='center', fontsize=5) # text()를 사용하여 이미지 위에 텍스트 그리기\n",
        "\n",
        "plt.title(\"%i\" % train_data.targets[0])\n",
        "plt.show"
      ]
    },
    {
      "cell_type": "code",
      "execution_count": 6,
      "metadata": {
        "colab": {
          "base_uri": "https://localhost:8080/",
          "height": 675
        },
        "id": "PYcY2R2mWkcO",
        "outputId": "1899758a-adaa-4a84-bb8a-fa3e4a39da93"
      },
      "outputs": [
        {
          "output_type": "display_data",
          "data": {
            "text/plain": [
              "<Figure size 1000x800 with 25 Axes>"
            ],
            "image/png": "[encoded data removed]"
          },
          "metadata": {}
        }
      ],
      "source": [
        "#랜덤으로 데이터 뽑아서 확인\n",
        "figure = plt.figure(figsize=(10, 8))\n",
        "cols, rows = 5, 5\n",
        "for i in range(1, cols * rows + 1):\n",
        "  sample_idx = torch.randint(len(train_data), size=(1,)).item()\n",
        "  img, label= train_data[sample_idx]\n",
        "  figure.add_subplot(rows, cols, i)\n",
        "  plt.title(label)\n",
        "  plt.axis(\"off\")\n",
        "  plt.imshow(img.squeeze(), cmap=\"gray\")\n",
        "plt.show()"
      ]
    },
    {
      "cell_type": "code",
      "execution_count": 7,
      "metadata": {
        "colab": {
          "base_uri": "https://localhost:8080/"
        },
        "id": "Jk4WLXAwWmdZ",
        "outputId": "81fd0e65-d423-4ac1-da29-76612825aa74"
      },
      "outputs": [
        {
          "output_type": "execute_result",
          "data": {
            "text/plain": [
              "{'train': <torch.utils.data.dataloader.DataLoader at 0x7deeefa15f00>,\n",
              " 'test': <torch.utils.data.dataloader.DataLoader at 0x7deeefa16290>}"
            ]
          },
          "metadata": {},
          "execution_count": 7
        }
      ],
      "source": [
        "from torch.utils.data import DataLoader\n",
        "loaders = {\n",
        "    'train' : torch.utils.data.DataLoader(train_data,\n",
        "                                          batch_size=100,\n",
        "                                          shuffle=True,\n",
        "                                          num_workers=1),\n",
        "    'test' : torch.utils.data.DataLoader(test_data,\n",
        "                                         batch_size=100,\n",
        "                                         shuffle=True,\n",
        "                                         num_workers=1)\n",
        "}\n",
        "loaders"
      ]
    },
    {
      "cell_type": "code",
      "execution_count": 8,
      "metadata": {
        "id": "OuSeXMWYWoWj"
      },
      "outputs": [],
      "source": [
        "class CNN(torch.nn.Module):\n",
        "\n",
        "  def __init__(self):\n",
        "    super(CNN, self).__init__()\n",
        "    self.layer1 = torch.nn.Sequential(\n",
        "        torch.nn.Conv2d(1, 16, kernel_size=5, stride=1, padding=2), #컨볼루션 레이어(합성곱층) #1차원 데이터를 받아 16개의 feature로 나누겟다!!임.\n",
        "        torch.nn.ReLU(), #ReLU층\n",
        "        torch.nn.MaxPool2d(kernel_size=2, stride=2)) #풀링층\n",
        "    self.layer2 = torch.nn.Sequential(\n",
        "        torch.nn.Conv2d(16, 32, kernel_size=5, stride=1, padding=2),\n",
        "        torch.nn.ReLU(),\n",
        "        torch.nn.MaxPool2d(kernel_size=2, stride=2))\n",
        "    self.fc = torch.nn.Linear(32 * 7 * 7, 10, bias=True) #32*7*7만큼의 입력을 linear레이어에 의해 계산되게 해서... 10개의 출력이 나오도록 함.\n",
        "    torch.nn.init.xavier_uniform_(self.fc.weight)\n",
        "    # __init__에서 정의내린 레이어들을\n",
        "    # 아래 forward(얘가 실제적인 모델의 형태가 됨)에서 사용한다.\n",
        "\n",
        "  def forward(self, x): #순전파\n",
        "    out = self.layer1(x)\n",
        "    out = self.layer2(out)\n",
        "    out = out.view(out.size(0), -1)\n",
        "    out = self.fc(out)\n",
        "    return out"
      ]
    },
    {
      "cell_type": "code",
      "execution_count": 9,
      "metadata": {
        "colab": {
          "base_uri": "https://localhost:8080/"
        },
        "id": "fMzwcnPwWqfd",
        "outputId": "e9fce60c-2d75-46de-c85e-245194a226ad"
      },
      "outputs": [
        {
          "output_type": "execute_result",
          "data": {
            "text/plain": [
              "CNN(\n",
              "  (layer1): Sequential(\n",
              "    (0): Conv2d(1, 16, kernel_size=(5, 5), stride=(1, 1), padding=(2, 2))\n",
              "    (1): ReLU()\n",
              "    (2): MaxPool2d(kernel_size=2, stride=2, padding=0, dilation=1, ceil_mode=False)\n",
              "  )\n",
              "  (layer2): Sequential(\n",
              "    (0): Conv2d(16, 32, kernel_size=(5, 5), stride=(1, 1), padding=(2, 2))\n",
              "    (1): ReLU()\n",
              "    (2): MaxPool2d(kernel_size=2, stride=2, padding=0, dilation=1, ceil_mode=False)\n",
              "  )\n",
              "  (fc): Linear(in_features=1568, out_features=10, bias=True)\n",
              ")"
            ]
          },
          "metadata": {},
          "execution_count": 9
        }
      ],
      "source": [
        "model = CNN()\n",
        "model"
      ]
    },
    {
      "cell_type": "code",
      "execution_count": 10,
      "metadata": {
        "id": "Y7X0kP2gWuVm"
      },
      "outputs": [],
      "source": [
        "learning_rate = 0.01\n",
        "loss_func = torch.nn.CrossEntropyLoss()\n",
        "optimizer =  torch.optim.Adam(model.parameters(), lr=learning_rate)\n",
        "training_epochs = 5"
      ]
    },
    {
      "cell_type": "code",
      "source": [
        "total_batch = len(loaders['train'])\n",
        "for epoch in range(training_epochs):\n",
        "    avg_cost = 0\n",
        "    correct = 0\n",
        "    total = 0\n",
        "\n",
        "    for X, Y in loaders['train']:\n",
        "        optimizer.zero_grad()\n",
        "        pred = model(X)  # 순전파\n",
        "        cost = loss_func(pred, Y)  # 손실 함수 계산\n",
        "        cost.backward()  # 역전파\n",
        "        optimizer.step()\n",
        "\n",
        "        avg_cost += cost / total_batch\n",
        "\n",
        "        # 정확도 계산\n",
        "        _, predicted = torch.max(pred, 1)  # 예측한 클래스\n",
        "        total += Y.size(0)  # 총 라벨 수\n",
        "        correct += (predicted == Y).sum().item()  # 맞춘 예측 수\n",
        "\n",
        "    accuracy = 100 * correct / total  # 정확도 계산\n",
        "    print('[Epoch: {:>4}] cost = {:>.9}, accuracy = {:.2f}%'.format(epoch + 1, avg_cost, accuracy))\n",
        "\n",
        "print('Learning Finished....>_<')"
      ],
      "metadata": {
        "id": "kPcCWHi6LruY",
        "colab": {
          "base_uri": "https://localhost:8080/"
        },
        "outputId": "21b1deac-4fff-4c23-b619-9b599c090998"
      },
      "execution_count": 11,
      "outputs": [
        {
          "output_type": "stream",
          "name": "stdout",
          "text": [
            "[Epoch:    1] cost = 0.185288757, accuracy = 94.10%\n",
            "[Epoch:    2] cost = 0.0643409714, accuracy = 98.03%\n",
            "[Epoch:    3] cost = 0.0574887842, accuracy = 98.25%\n",
            "[Epoch:    4] cost = 0.0518945567, accuracy = 98.37%\n",
            "[Epoch:    5] cost = 0.0480846092, accuracy = 98.53%\n",
            "[Epoch:    6] cost = 0.0455344543, accuracy = 98.60%\n",
            "[Epoch:    7] cost = 0.0429254323, accuracy = 98.64%\n",
            "[Epoch:    8] cost = 0.0441515334, accuracy = 98.62%\n",
            "[Epoch:    9] cost = 0.043495059, accuracy = 98.68%\n",
            "[Epoch:   10] cost = 0.0433634371, accuracy = 98.75%\n",
            "Learning Finished....>_<\n"
          ]
        }
      ]
    },
    {
      "cell_type": "markdown",
      "metadata": {
        "id": "rpwnOddtWXDN"
      },
      "source": [
        "#resnet"
      ]
    },
    {
      "cell_type": "code",
      "execution_count": 13,
      "metadata": {
        "id": "jq2FmQKNW0ny"
      },
      "outputs": [],
      "source": [
        "#필요한 모듈 불러오기\n",
        "import torch\n",
        "import torch.nn as nn #다양한 종류의 레이어 제공 -> 모델 만들기 도우미!\n",
        "import torch.nn.functional as F #활성화 함수, 손실함수 등을 함수 형태로 제공.\n",
        "import torch.optim as optim\n",
        "import os"
      ]
    },
    {
      "cell_type": "code",
      "execution_count": 14,
      "metadata": {
        "id": "t1JIO9zGW38K"
      },
      "outputs": [],
      "source": [
        "#BasicBlock 클래스 정의\n",
        "\n",
        "class BasicBlock(nn.Module): # nn.Module 상속받기\n",
        "    def __init__(self, in_planes, planes, stride = 1):\n",
        "        super(BasicBlock, self).__init__() #BasicBlock의 부모클래스인 nn.Module의 __init__함수를 먼저 호출해서 사용.\n",
        "\n",
        "        #conv1과 conv2 설정\n",
        "        #2D 컨볼루션 레이어 설정\n",
        "        self.conv1 = nn.Conv2d(in_planes, planes, kernel_size = 3, stride = stride, padding = 1, bias = False) # in_planes 입력채널 수 / planes 출력채널 수 / kernel_size 3*3 필터(커널) 사용 / stride (커널로 훑을 때의 보폭) 기본값은 1 / padding 패딩의 크기 1 / bias = False 바이어스(출력값을 조절하기 위해 사용되는  값) 를 사용하지 않겠다. -> 바로 다음 줄의 코드(배치정규화)에서 바이어스의 역할을 해주기 때문에 여기에선 사용하지 않는다.\n",
        "        #배치 정규화 설정\n",
        "        self.bn1 = nn.BatchNorm2d(planes) # planes 배치정규화를 적용할 채널의 수. 앞의 출력 채널의 수와 동일해야함(당연함)\n",
        "\n",
        "        #2D 컨볼루션 레이어 설정\n",
        "        self.conv2 = nn.Conv2d(planes, planes, kernel_size = 3, stride = 1, padding = 1, bias = False)\n",
        "        #배치 정규화 설정\n",
        "        self.bn2 = nn.BatchNorm2d(planes)\n",
        "\n",
        "# shortcut 설정 -> `H(x) = R(x) + x`에서의 x를 위한 작업\n",
        "        self.shortcut = nn.Sequential() # nn.Sequential : pytorch에서 여러 레이어들을 순서대로 쌓을 때 사용하는 도구 # x를 그대로 더할 수 있는 경우\n",
        "        if stride != 1: #stride의 값이 1인경우(입력과 출력의 채널 수가 다른 경우 = x를 그대로 더할 수 없는 경우)\n",
        "          self.shortcut = nn.Sequential(\n",
        "                          nn.Conv2d(in_planes, planes, kernel_size = 1, stride = stride, bias = False),\n",
        "                          nn.BatchNorm2d(planes)\n",
        "                      ) # nn.Sequential을 사용해서 Conv2d와 BatchNorm레이어들을 이어줬음\n",
        "\n",
        "#순전파 함수 # __init__에서 설정해뒀던 거 실제로 사용하는 부분.\n",
        "    def forward(self,x):\n",
        "        out = F.relu(self.bn1(self.conv1(x))) #conv1 거치고, relu함수 거치기\n",
        "        out = self.bn2(self.conv2(out)) #그다음 conv2 거치기\n",
        "        out += self.shortcut(x) # resnet의 핵심인 skip connection : H(x) = R(x) + x\n",
        "        return out"
      ]
    },
    {
      "cell_type": "code",
      "execution_count": 15,
      "metadata": {
        "id": "aZOYGsM-W6K3"
      },
      "outputs": [],
      "source": [
        "#ResNet 클래스 정의\n",
        "class ResNet(nn.Module):\n",
        "    def __init__(self, block, num_blocks, num_classes = 10):\n",
        "        super(ResNet, self).__init__() #ResNet의 부모클래스인 nn.Module의 __init__함수를 먼저 호출해서 사용.\n",
        "        self.in_planes = 64 # 입력 채널 수 64        # 2D 컨볼루션레이어 설정\n",
        "\n",
        "        self.conv1 = nn.Conv2d(3, 64, kernel_size = 3, stride = 1, padding = 1, bias = False) # 입력채널 수 3 / 출력채널 수 64 / kernel_size 3*3 필터(커널) 사용 / stride (커널로 훑을 때의 보폭) 1 / padding 패딩의 크기 1 / bias = False 바이어스(출력값을 조절하기 위해 사용되는  값) 를 사용하지 않겠다.\n",
        "        # 배치정규화 설정\n",
        "        self.bn1 = nn.BatchNorm2d(64) # 배치정규화를 위해 사용할 채널 수 = 이전 채널에서의 출력 채널 수 = 64        # 레이어블록 설정(각 블록은 앞서 정의한 BASIC BLOCK으로 구성될거임. 인자 block 자리에, BasicBlock이 들어갈거니까아아아~~)\n",
        "        # _make_layer() : (블록의 종류, 출력 채널 수, 쌓을 블럭의 수, 레이어의 첫 블럭에서 사용할 stride의 값)\n",
        "        self.layer1 = self._make_layer(block, 64, num_blocks[0], stride = 1) #\n",
        "        self.layer2 = self._make_layer(block, 128, num_blocks[1], stride = 2)\n",
        "        self.layer3 = self._make_layer(block, 256, num_blocks[2], stride = 2)\n",
        "        self.layer4 = self._make_layer(block, 512, num_blocks[3], stride=2)\n",
        "        # self._make_layer()에서 self는 현재 클래스의 인스턴스를 가리킴.\n",
        "        # 클래스 예측값 계산\n",
        "        self.linear = nn.Linear(512, num_classes) # 입력 채널 수 512, 출력 채널 수 num_classes        # _make_layer 함수 설정\n",
        "    def _make_layer(self, block, planes, num_blocks, stride):\n",
        "        strides = [stride] + [1] * (num_blocks -1) # stride 값 설정 # 첫 번째 블록의 stride는 지정된 값을 사용하고 이후 블럭들은 stride = 1이 된다.\n",
        "        layers = [] # 블럭을 담을 빈 리스트 생성\n",
        "        for stride in strides:\n",
        "            layers.append(block(self.in_planes, planes, stride)) # 입력 채널 수 self.in_planes, 출력 채널 수 planes, 스트라이드 값 stride\n",
        "            self.in_planes = planes # 채널 수 변경해주기(다음 레이어를 위해)\n",
        "        return nn.Sequential(*layers) # 생성한 블록들을 하나의 레이어로 묶어서 반환.\n",
        "    # 순전파 함수 # __init__ 설정해뒀던거랑 _make_layer 함수 만든 거 실제로 사용하는 부분.\n",
        "    def forward(self, x):\n",
        "        out = F.relu(self.bn1(self.conv1(x)))\n",
        "        out = self.layer1(out)\n",
        "        out = self.layer2(out)\n",
        "        out = self.layer3(out)\n",
        "        out = self.layer4(out)\n",
        "        out = F.avg_pool2d(out, 4) # 풀링층\n",
        "        out = out.view(out.size(0),-1) # 텐서의 차원 변경\n",
        "        out = self.linear(out) #완전 연결층\n",
        "        return out"
      ]
    },
    {
      "cell_type": "code",
      "execution_count": 16,
      "metadata": {
        "id": "FERJsCr6W-MV"
      },
      "outputs": [],
      "source": [
        "# ResNet 18 함수 정의\n",
        "def ResNet18():\n",
        "    return ResNet(BasicBlock, [2,2,2,2])"
      ]
    },
    {
      "cell_type": "code",
      "execution_count": 17,
      "metadata": {
        "colab": {
          "base_uri": "https://localhost:8080/"
        },
        "id": "Wtbus0UWXAPp",
        "outputId": "8733b6f3-da56-4bd0-d629-6ddbc2e463a5"
      },
      "outputs": [
        {
          "output_type": "stream",
          "name": "stdout",
          "text": [
            "Downloading https://www.cs.toronto.edu/~kriz/cifar-10-python.tar.gz to ./data/cifar-10-python.tar.gz\n"
          ]
        },
        {
          "output_type": "stream",
          "name": "stderr",
          "text": [
            "100%|██████████| 170498071/170498071 [00:04<00:00, 41588920.60it/s]\n"
          ]
        },
        {
          "output_type": "stream",
          "name": "stdout",
          "text": [
            "Extracting ./data/cifar-10-python.tar.gz to ./data\n",
            "Files already downloaded and verified\n"
          ]
        }
      ],
      "source": [
        "# 데이터 불러오기\n",
        "import torchvision\n",
        "import torchvision.transforms as transforms\n",
        "\n",
        "transform_train = transforms.Compose([\n",
        "    transforms.RandomCrop(32, padding=4),\n",
        "    transforms.RandomHorizontalFlip(),\n",
        "    transforms.ToTensor(),\n",
        "])\n",
        "\n",
        "transform_test = transforms.Compose([\n",
        "    transforms.ToTensor(),\n",
        "])\n",
        "\n",
        "train_dataset = torchvision.datasets.CIFAR10(root='./data', train=True, download=True, transform=transform_train)\n",
        "test_dataset = torchvision.datasets.CIFAR10(root='./data', train=False, download=True, transform=transform_test)\n",
        "\n",
        "train_loader = torch.utils.data.DataLoader(train_dataset, batch_size=128, shuffle=True, num_workers=2)\n",
        "test_loader = torch.utils.data.DataLoader(test_dataset, batch_size=100, shuffle=False, num_workers=2)"
      ]
    },
    {
      "cell_type": "code",
      "execution_count": 18,
      "metadata": {
        "id": "JueFErsGcDWN"
      },
      "outputs": [],
      "source": [
        "# 학습 준비\n",
        "device = 'cuda' if torch.cuda.is_available() else 'cpu'\n",
        "\n",
        "net = ResNet18()\n",
        "net = net.to(device)\n",
        "\n",
        "\n",
        "learning_rate = 0.1\n",
        "file_name = 'resnet18_cifar10.pth'\n",
        "\n",
        "criterion = nn.CrossEntropyLoss()\n",
        "optimizer = optim.SGD(net.parameters(), lr=learning_rate, momentum=0.9, weight_decay=0.0002)\n",
        "\n",
        "\n",
        "def train(epoch):\n",
        "    print('\\n[ Train epoch: %d ]' % epoch)\n",
        "    net.train()\n",
        "    train_loss = 0\n",
        "    correct = 0\n",
        "    total = 0\n",
        "\n",
        "    for batch_idx, (inputs, targets) in enumerate(train_loader):\n",
        "        inputs, targets = inputs.to(device), targets.to(device)\n",
        "        optimizer.zero_grad()\n",
        "\n",
        "        outputs = net(inputs)\n",
        "        loss = criterion(outputs, targets)\n",
        "        loss.backward()\n",
        "\n",
        "        optimizer.step()\n",
        "        train_loss += loss.item()\n",
        "        _, predicted = outputs.max(1)\n",
        "\n",
        "        total += targets.size(0)\n",
        "        current_correct = predicted.eq(targets).sum().item()\n",
        "        correct += current_correct\n",
        "\n",
        "        if batch_idx % 100 == 0:\n",
        "            print('\\nCurrent batch:', str(batch_idx))\n",
        "            print('Current batch average train accuracy:', current_correct / targets.size(0))\n",
        "            print('Current batch average train loss:', loss.item() / targets.size(0))\n",
        "\n",
        "    print('\\nTotal average train accuarcy:', correct / total)\n",
        "    print('Total average train loss:', train_loss / total)\n",
        "\n",
        "\n",
        "def test(epoch):\n",
        "    print('\\n[ Test epoch: %d ]' % epoch)\n",
        "    net.eval()\n",
        "    loss = 0\n",
        "    correct = 0\n",
        "    total = 0\n",
        "\n",
        "    for batch_idx, (inputs, targets) in enumerate(test_loader):\n",
        "        inputs, targets = inputs.to(device), targets.to(device)\n",
        "        total += targets.size(0)\n",
        "\n",
        "        outputs = net(inputs)\n",
        "        loss += criterion(outputs, targets).item()\n",
        "\n",
        "        _, predicted = outputs.max(1)\n",
        "        correct += predicted.eq(targets).sum().item()\n",
        "\n",
        "    print('\\nTotal average test accuarcy:', correct / total)\n",
        "    print('Total average test loss:', loss / total)\n",
        "\n",
        "    state = {\n",
        "        'net': net.state_dict()\n",
        "    }\n",
        "    if not os.path.isdir('checkpoint'):\n",
        "        os.mkdir('checkpoint')\n",
        "    torch.save(state, './checkpoint/' + file_name)\n",
        "    print('Model Saved!')"
      ]
    },
    {
      "cell_type": "code",
      "execution_count": 20,
      "metadata": {
        "colab": {
          "base_uri": "https://localhost:8080/"
        },
        "id": "F7ej6OyjcVF3",
        "outputId": "af35222b-2165-4e5e-a5f0-bdd71640cb74"
      },
      "outputs": [
        {
          "output_type": "stream",
          "name": "stdout",
          "text": [
            "\n",
            "[ Train epoch: 0 ]\n",
            "\n",
            "Current batch: 0\n",
            "Current batch average train accuracy: 0.59375\n",
            "Current batch average train loss: 0.008417416363954544\n",
            "\n",
            "Current batch: 100\n",
            "Current batch average train accuracy: 0.671875\n",
            "Current batch average train loss: 0.007439257577061653\n",
            "\n",
            "Current batch: 200\n",
            "Current batch average train accuracy: 0.65625\n",
            "Current batch average train loss: 0.007622913457453251\n",
            "\n",
            "Current batch: 300\n",
            "Current batch average train accuracy: 0.625\n",
            "Current batch average train loss: 0.007603014819324017\n",
            "\n",
            "Total average train accuarcy: 0.66338\n",
            "Total average train loss: 0.007400191020965576\n",
            "\n",
            "[ Test epoch: 0 ]\n",
            "\n",
            "Total average test accuarcy: 0.6137\n",
            "Total average test loss: 0.011425138068199158\n",
            "Model Saved!\n",
            "\n",
            "Time elapsed: 45.23142433166504\n",
            "\n",
            "[ Train epoch: 1 ]\n",
            "\n",
            "Current batch: 0\n",
            "Current batch average train accuracy: 0.6953125\n",
            "Current batch average train loss: 0.006833736319094896\n",
            "\n",
            "Current batch: 100\n",
            "Current batch average train accuracy: 0.6640625\n",
            "Current batch average train loss: 0.007035151124000549\n",
            "\n",
            "Current batch: 200\n",
            "Current batch average train accuracy: 0.703125\n",
            "Current batch average train loss: 0.007360386196523905\n",
            "\n",
            "Current batch: 300\n",
            "Current batch average train accuracy: 0.7265625\n",
            "Current batch average train loss: 0.006189784500747919\n",
            "\n",
            "Total average train accuarcy: 0.692\n",
            "Total average train loss: 0.006796191072463989\n",
            "\n",
            "[ Test epoch: 1 ]\n",
            "\n",
            "Total average test accuarcy: 0.5323\n",
            "Total average test loss: 0.013712939810752868\n",
            "Model Saved!\n",
            "\n",
            "Time elapsed: 89.57306098937988\n",
            "\n",
            "[ Train epoch: 2 ]\n",
            "\n",
            "Current batch: 0\n",
            "Current batch average train accuracy: 0.6328125\n",
            "Current batch average train loss: 0.008124035783112049\n",
            "\n",
            "Current batch: 100\n",
            "Current batch average train accuracy: 0.6953125\n",
            "Current batch average train loss: 0.00676161702722311\n",
            "\n",
            "Current batch: 200\n",
            "Current batch average train accuracy: 0.65625\n",
            "Current batch average train loss: 0.006649854592978954\n",
            "\n",
            "Current batch: 300\n",
            "Current batch average train accuracy: 0.6953125\n",
            "Current batch average train loss: 0.006444140803068876\n",
            "\n",
            "Total average train accuarcy: 0.71202\n",
            "Total average train loss: 0.006398955440521241\n",
            "\n",
            "[ Test epoch: 2 ]\n",
            "\n",
            "Total average test accuarcy: 0.6669\n",
            "Total average test loss: 0.0096787431538105\n",
            "Model Saved!\n",
            "\n",
            "Time elapsed: 134.45847010612488\n",
            "\n",
            "[ Train epoch: 3 ]\n",
            "\n",
            "Current batch: 0\n",
            "Current batch average train accuracy: 0.71875\n",
            "Current batch average train loss: 0.00630300072953105\n",
            "\n",
            "Current batch: 100\n",
            "Current batch average train accuracy: 0.78125\n",
            "Current batch average train loss: 0.005052658263593912\n",
            "\n",
            "Current batch: 200\n",
            "Current batch average train accuracy: 0.7578125\n",
            "Current batch average train loss: 0.005721929483115673\n",
            "\n",
            "Current batch: 300\n",
            "Current batch average train accuracy: 0.6953125\n",
            "Current batch average train loss: 0.006997083779424429\n",
            "\n",
            "Total average train accuarcy: 0.73392\n",
            "Total average train loss: 0.005937172343730927\n",
            "\n",
            "[ Test epoch: 3 ]\n",
            "\n",
            "Total average test accuarcy: 0.6954\n",
            "Total average test loss: 0.009145383697748184\n",
            "Model Saved!\n",
            "\n",
            "Time elapsed: 178.9236660003662\n",
            "\n",
            "[ Train epoch: 4 ]\n",
            "\n",
            "Current batch: 0\n",
            "Current batch average train accuracy: 0.734375\n",
            "Current batch average train loss: 0.005494215060025454\n",
            "\n",
            "Current batch: 100\n",
            "Current batch average train accuracy: 0.828125\n",
            "Current batch average train loss: 0.004548971075564623\n",
            "\n",
            "Current batch: 200\n",
            "Current batch average train accuracy: 0.7734375\n",
            "Current batch average train loss: 0.005735811311751604\n",
            "\n",
            "Current batch: 300\n",
            "Current batch average train accuracy: 0.703125\n",
            "Current batch average train loss: 0.006182284560054541\n",
            "\n",
            "Total average train accuarcy: 0.75356\n",
            "Total average train loss: 0.005507633792161942\n",
            "\n",
            "[ Test epoch: 4 ]\n",
            "\n",
            "Total average test accuarcy: 0.7056\n",
            "Total average test loss: 0.008733526766300202\n",
            "Model Saved!\n",
            "\n",
            "Time elapsed: 223.7951054573059\n",
            "\n",
            "[ Train epoch: 5 ]\n",
            "\n",
            "Current batch: 0\n",
            "Current batch average train accuracy: 0.7265625\n",
            "Current batch average train loss: 0.005326203070580959\n",
            "\n",
            "Current batch: 100\n",
            "Current batch average train accuracy: 0.703125\n",
            "Current batch average train loss: 0.006410969886928797\n",
            "\n",
            "Current batch: 200\n",
            "Current batch average train accuracy: 0.703125\n",
            "Current batch average train loss: 0.0055869692005217075\n",
            "\n",
            "Current batch: 300\n",
            "Current batch average train accuracy: 0.7890625\n",
            "Current batch average train loss: 0.004673993680626154\n",
            "\n",
            "Total average train accuarcy: 0.76762\n",
            "Total average train loss: 0.005194797180891037\n",
            "\n",
            "[ Test epoch: 5 ]\n",
            "\n",
            "Total average test accuarcy: 0.6909\n",
            "Total average test loss: 0.009610064262151718\n",
            "Model Saved!\n",
            "\n",
            "Time elapsed: 268.3293957710266\n",
            "\n",
            "[ Train epoch: 6 ]\n",
            "\n",
            "Current batch: 0\n",
            "Current batch average train accuracy: 0.7734375\n",
            "Current batch average train loss: 0.004992325324565172\n",
            "\n",
            "Current batch: 100\n",
            "Current batch average train accuracy: 0.7734375\n",
            "Current batch average train loss: 0.005196374375373125\n",
            "\n",
            "Current batch: 200\n",
            "Current batch average train accuracy: 0.78125\n",
            "Current batch average train loss: 0.0059449984692037106\n",
            "\n",
            "Current batch: 300\n",
            "Current batch average train accuracy: 0.7890625\n",
            "Current batch average train loss: 0.004472927190363407\n",
            "\n",
            "Total average train accuarcy: 0.78548\n",
            "Total average train loss: 0.004850190665721893\n",
            "\n",
            "[ Test epoch: 6 ]\n",
            "\n",
            "Total average test accuarcy: 0.663\n",
            "Total average test loss: 0.009965492010116577\n",
            "Model Saved!\n",
            "\n",
            "Time elapsed: 313.22160482406616\n",
            "\n",
            "[ Train epoch: 7 ]\n",
            "\n",
            "Current batch: 0\n",
            "Current batch average train accuracy: 0.890625\n",
            "Current batch average train loss: 0.003009274834766984\n",
            "\n",
            "Current batch: 100\n",
            "Current batch average train accuracy: 0.7734375\n",
            "Current batch average train loss: 0.004366541281342506\n",
            "\n",
            "Current batch: 200\n",
            "Current batch average train accuracy: 0.8359375\n",
            "Current batch average train loss: 0.0038955537602305412\n",
            "\n",
            "Current batch: 300\n",
            "Current batch average train accuracy: 0.8671875\n",
            "Current batch average train loss: 0.003765248227864504\n",
            "\n",
            "Total average train accuarcy: 0.79656\n",
            "Total average train loss: 0.004574045594334602\n",
            "\n",
            "[ Test epoch: 7 ]\n",
            "\n",
            "Total average test accuarcy: 0.7627\n",
            "Total average test loss: 0.006917568969726563\n",
            "Model Saved!\n",
            "\n",
            "Time elapsed: 357.63607478141785\n",
            "\n",
            "[ Train epoch: 8 ]\n",
            "\n",
            "Current batch: 0\n",
            "Current batch average train accuracy: 0.765625\n",
            "Current batch average train loss: 0.004903331398963928\n",
            "\n",
            "Current batch: 100\n",
            "Current batch average train accuracy: 0.828125\n",
            "Current batch average train loss: 0.003874621819704771\n",
            "\n",
            "Current batch: 200\n",
            "Current batch average train accuracy: 0.8046875\n",
            "Current batch average train loss: 0.0045705558732151985\n",
            "\n",
            "Current batch: 300\n",
            "Current batch average train accuracy: 0.828125\n",
            "Current batch average train loss: 0.003926462028175592\n",
            "\n",
            "Total average train accuarcy: 0.81026\n",
            "Total average train loss: 0.0043122968554496766\n",
            "\n",
            "[ Test epoch: 8 ]\n",
            "\n",
            "Total average test accuarcy: 0.7971\n",
            "Total average test loss: 0.00594673987030983\n",
            "Model Saved!\n",
            "\n",
            "Time elapsed: 402.5344443321228\n",
            "\n",
            "[ Train epoch: 9 ]\n",
            "\n",
            "Current batch: 0\n",
            "Current batch average train accuracy: 0.796875\n",
            "Current batch average train loss: 0.0043814172968268394\n",
            "\n",
            "Current batch: 100\n",
            "Current batch average train accuracy: 0.78125\n",
            "Current batch average train loss: 0.004766145255416632\n",
            "\n",
            "Current batch: 200\n",
            "Current batch average train accuracy: 0.7421875\n",
            "Current batch average train loss: 0.006143587175756693\n",
            "\n",
            "Current batch: 300\n",
            "Current batch average train accuracy: 0.8359375\n",
            "Current batch average train loss: 0.003763833548873663\n",
            "\n",
            "Total average train accuarcy: 0.81692\n",
            "Total average train loss: 0.004141650745272636\n",
            "\n",
            "[ Test epoch: 9 ]\n",
            "\n",
            "Total average test accuarcy: 0.7243\n",
            "Total average test loss: 0.008632707089185714\n",
            "Model Saved!\n",
            "\n",
            "Time elapsed: 447.01008200645447\n"
          ]
        }
      ],
      "source": [
        "import time\n",
        "\n",
        "def adjust_learning_rate(optimizer, epoch):\n",
        "    lr = learning_rate\n",
        "    if epoch >= 50:\n",
        "        lr /= 10\n",
        "    if epoch >= 100:\n",
        "        lr /= 10\n",
        "    for param_group in optimizer.param_groups:\n",
        "        param_group['lr'] = lr\n",
        "\n",
        "start_time = time.time()\n",
        "\n",
        "for epoch in range(0, 10):\n",
        "    adjust_learning_rate(optimizer, epoch)\n",
        "    train(epoch)\n",
        "    test(epoch)\n",
        "    print('\\nTime elapsed:', time.time() - start_time)"
      ]
    }
  ]
}